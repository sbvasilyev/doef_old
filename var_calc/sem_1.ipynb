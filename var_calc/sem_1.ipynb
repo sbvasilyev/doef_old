{
 "cells": [
  {
   "cell_type": "markdown",
   "metadata": {
    "id": "VeFzYswkit7U"
   },
   "source": [
    "# Вспоминаем Python"
   ]
  },
  {
   "cell_type": "code",
   "execution_count": 1,
   "metadata": {
    "id": "Y2fBsTZCit7V"
   },
   "outputs": [],
   "source": [
    "# Объявление переменных\n",
    "a = 0\n",
    "b = 2.3\n",
    "is_valid = True\n",
    "\n",
    "# int, float, bool, string, list, tuple, dict, set\n"
   ]
  },
  {
   "cell_type": "code",
   "execution_count": 2,
   "metadata": {
    "id": "S1Ch0qCCit7V",
    "outputId": "f90af605-e697-4b74-f54c-4780a3125d64"
   },
   "outputs": [
    {
     "name": "stdout",
     "output_type": "stream",
     "text": [
      "<class 'int'>\n",
      "3\n",
      "4\n",
      "2\n",
      "6\n",
      "9\n",
      "1\n",
      "5\n",
      "10\n",
      "<class 'float'>\n",
      "2.5 3.5 5.0 6.25\n"
     ]
    }
   ],
   "source": [
    "# Базовые операции\n",
    "x = 3\n",
    "print(type(x)) # Prints \"<class 'int'>\"\n",
    "print(x)       # Prints \"3\"\n",
    "print(x + 1)   # Addition; prints \"4\"\n",
    "print(x - 1)   # Subtraction; prints \"2\"\n",
    "print(x * 2)   # Multiplication; prints \"6\"\n",
    "print(x ** 2)  # Exponentiation; prints \"9\"\n",
    "print(x % 2)   # Остаток от деления\n",
    "\n",
    "x = x + 1\n",
    "x += 1\n",
    "\n",
    "print(x)  # Prints \"4\"\n",
    "x *= 2\n",
    "print(x)  # Prints \"8\"\n",
    "y = 2.5\n",
    "print(type(y)) # Prints \"<class 'float'>\"\n",
    "print(y, y + 1, y * 2, y ** 2) # Prints \"2.5 3.5 5.0 6.25\""
   ]
  },
  {
   "cell_type": "code",
   "execution_count": 3,
   "metadata": {
    "colab": {
     "base_uri": "https://localhost:8080/"
    },
    "id": "cIuyU7Udit7W",
    "outputId": "22052cb0-1cba-40b1-c03e-f75e818fae40"
   },
   "outputs": [
    {
     "name": "stdout",
     "output_type": "stream",
     "text": [
      "<class 'bool'>\n",
      "False\n",
      "True\n",
      "False\n",
      "True\n"
     ]
    }
   ],
   "source": [
    "# Логические операции\n",
    "t = True\n",
    "f = False\n",
    "print(type(t)) # Prints \"<class 'bool'>\"\n",
    "print(t and f) # Logical AND; prints \"False\"\n",
    "print(t or f)  # Logical OR; prints \"True\"\n",
    "# print(not t)   # Logical NOT; prints \"False\"\n",
    "# print(t != f)  # Logical XOR; prints \"True\"\n",
    "\n",
    "print(t & f)\n",
    "print(t | f)"
   ]
  },
  {
   "cell_type": "code",
   "execution_count": 4,
   "metadata": {
    "colab": {
     "base_uri": "https://localhost:8080/"
    },
    "id": "bjObUnhiit7W",
    "outputId": "4bd9a9fe-9a2e-46dc-ac40-8a99e5187b63"
   },
   "outputs": [
    {
     "name": "stdout",
     "output_type": "stream",
     "text": [
      "А можно и так. b = 2.3\n",
      "Это строка_Это тоже строка\n",
      "Это строка_Это тоже строка\n",
      "abcd\n",
      "ABCD \n",
      "abcd \n",
      "xbcd \n"
     ]
    }
   ],
   "source": [
    "# Строки\n",
    "some_string = \"Это строка\"\n",
    "another_string = 'Это тоже строка'\n",
    "interpolated_string = f'А можно и так. b = {b}'\n",
    "print(interpolated_string)\n",
    "print(some_string + '_' +  another_string)\n",
    "print('_'.join([some_string, another_string]))\n",
    "\n",
    "x = 'abcd '\n",
    "print(x.strip())\n",
    "print(x.upper())\n",
    "print(x.upper().lower())\n",
    "print(x.replace('a', 'x'))"
   ]
  },
  {
   "cell_type": "code",
   "execution_count": 5,
   "metadata": {
    "colab": {
     "base_uri": "https://localhost:8080/"
    },
    "id": "KUx3CGX8it7a",
    "outputId": "a95064f3-359b-4de5-eb51-773d4942d390"
   },
   "outputs": [
    {
     "name": "stdout",
     "output_type": "stream",
     "text": [
      "[3, 1, 2] 2\n",
      "2\n",
      "[3, 1, 'foo']\n",
      "[3, 1, 'foo', 'bar']\n",
      "bar [3, 1, 'foo']\n"
     ]
    }
   ],
   "source": [
    "# Коллекции\n",
    "\n",
    "# Списки\n",
    "xs = [3, 1, 2]    # Create a list\n",
    "print(xs, xs[2])  # Prints \"[3, 1, 2] 2\"\n",
    "print(xs[-1])     # Negative indices count from the end of the list; prints \"2\"\n",
    "xs[2] = 'foo'     # Lists can contain elements of different types\n",
    "print(xs)         # Prints \"[3, 1, 'foo']\"\n",
    "xs.append('bar')  # Add a new element to the end of the list\n",
    "print(xs)         # Prints \"[3, 1, 'foo', 'bar']\"\n",
    "x = xs.pop()      # Remove and return the last element of the list\n",
    "print(x, xs)      # Prints \"bar [3, 1, 'foo']\"\n",
    "\n"
   ]
  },
  {
   "cell_type": "code",
   "execution_count": 6,
   "metadata": {
    "colab": {
     "base_uri": "https://localhost:8080/"
    },
    "id": "WKzwxbBSit7a",
    "outputId": "0889e1a4-4add-4ef7-d1ac-17e18fdb1b00"
   },
   "outputs": [
    {
     "name": "stdout",
     "output_type": "stream",
     "text": [
      "1 2 [3, 4]\n",
      "<class 'tuple'>\n",
      "5\n",
      "1\n"
     ]
    }
   ],
   "source": [
    "# Кортежи\n",
    "some_tuple = (1, 2, 3, 4)\n",
    "\n",
    "ua, ub, *_ = some_tuple\n",
    "print(ua, ub, _)\n",
    "\n",
    "d = {(x, x + 1): x for x in range(10)}  # Create a dictionary with tuple keys\n",
    "t = (5, 6)        # Create a tuple\n",
    "print(type(t))    # Prints \"<class 'tuple'>\"\n",
    "print(d[t])       # Prints \"5\"\n",
    "print(d[(1, 2)])  # Prints \"1\""
   ]
  },
  {
   "cell_type": "code",
   "execution_count": 7,
   "metadata": {
    "colab": {
     "base_uri": "https://localhost:8080/"
    },
    "id": "Ojoc_cPqit7a",
    "outputId": "bbd533b6-ef4c-4234-ed0e-65c6a58b15cb"
   },
   "outputs": [
    {
     "name": "stdout",
     "output_type": "stream",
     "text": [
      "cute\n",
      "True\n",
      "wet\n",
      "N/A\n",
      "wet\n",
      "N/A\n",
      "value = 5 and name = A\n"
     ]
    }
   ],
   "source": [
    "# Словари\n",
    "\n",
    "d = {'cat': 'cute', 'dog': 'furry'}  # Create a new dictionary with some data\n",
    "print(d['cat'])       # Get an entry from a dictionary; prints \"cute\"\n",
    "print('cat' in d)     # Check if a dictionary has a given key; prints \"True\"\n",
    "d['fish'] = 'wet'     # Set an entry in a dictionary\n",
    "print(d['fish'])      # Prints \"wet\"\n",
    "# print(d['monkey'])  # KeyError: 'monkey' not a key of d\n",
    "print(d.get('monkey', 'N/A'))  # Get an element with a default; prints \"N/A\"\n",
    "print(d.get('fish', 'N/A'))    # Get an element with a default; prints \"wet\"\n",
    "del d['fish']         # Remove an element from a dictionary\n",
    "print(d.get('fish', 'N/A')) # \"fish\" is no longer a key; prints \"N/A\"\n",
    "\n",
    "some_dict = {\n",
    "    'value': 5,\n",
    "    'is_valid': True,\n",
    "    'name': 'A'\n",
    "}\n",
    "\n",
    "print(f'value = {some_dict[\"value\"]} and name = {some_dict[\"name\"]}')\n",
    "\n"
   ]
  },
  {
   "cell_type": "code",
   "execution_count": 8,
   "metadata": {
    "colab": {
     "base_uri": "https://localhost:8080/"
    },
    "id": "MAyI151bit7a",
    "outputId": "c1ff2158-a3df-4ae3-8105-3e827d889c6c"
   },
   "outputs": [
    {
     "name": "stdout",
     "output_type": "stream",
     "text": [
      "True\n",
      "False\n",
      "True\n",
      "3\n",
      "3\n",
      "2\n"
     ]
    }
   ],
   "source": [
    "# Множества\n",
    "\n",
    "animals = {'cat', 'dog'}\n",
    "print('cat' in animals)   # Check if an element is in a set; prints \"True\"\n",
    "print('fish' in animals)  # prints \"False\"\n",
    "animals.add('fish')       # Add an element to a set\n",
    "print('fish' in animals)  # Prints \"True\"\n",
    "print(len(animals))       # Number of elements in a set; prints \"3\"\n",
    "animals.add('cat')        # Adding an element that is already in the set does nothing\n",
    "print(len(animals))       # Prints \"3\"\n",
    "animals.remove('cat')     # Remove an element from a set\n",
    "print(len(animals))       # Prints \"2\""
   ]
  },
  {
   "cell_type": "code",
   "execution_count": 9,
   "metadata": {
    "colab": {
     "base_uri": "https://localhost:8080/"
    },
    "id": "6npNtp9Ait7b",
    "outputId": "f25ab76f-ba76-4f4a-8657-1564f0005864"
   },
   "outputs": [
    {
     "name": "stdout",
     "output_type": "stream",
     "text": [
      "[4]\n",
      "{0, 1, 64, 4, 36, 9, 16, 49, 81, 25}\n"
     ]
    }
   ],
   "source": [
    "# List comprehension\n",
    "some_list = [1, 2, 3]\n",
    "squared_list = [x ** 2 for x in some_list]\n",
    "\n",
    "squared_even_list = [x ** 2 for x in some_list if x % 2 == 0]\n",
    "\n",
    "print(squared_even_list)\n",
    "\n",
    "# Dict comprehension\n",
    "{str(x):x for x in range(10)}\n",
    "\n",
    "# Set comprehension\n",
    "nums = {x**2 for x in range(10)}\n",
    "print(nums)  # Prints \"{0, 1, 2, 3, 4, 5}\"\n"
   ]
  },
  {
   "cell_type": "code",
   "execution_count": 10,
   "metadata": {
    "id": "PA1UOx5fDf44"
   },
   "outputs": [
    {
     "name": "stdout",
     "output_type": "stream",
     "text": [
      "The Zen of Python, by Tim Peters\n",
      "\n",
      "Beautiful is better than ugly.\n",
      "Explicit is better than implicit.\n",
      "Simple is better than complex.\n",
      "Complex is better than complicated.\n",
      "Flat is better than nested.\n",
      "Sparse is better than dense.\n",
      "Readability counts.\n",
      "Special cases aren't special enough to break the rules.\n",
      "Although practicality beats purity.\n",
      "Errors should never pass silently.\n",
      "Unless explicitly silenced.\n",
      "In the face of ambiguity, refuse the temptation to guess.\n",
      "There should be one-- and preferably only one --obvious way to do it.\n",
      "Although that way may not be obvious at first unless you're Dutch.\n",
      "Now is better than never.\n",
      "Although never is often better than *right* now.\n",
      "If the implementation is hard to explain, it's a bad idea.\n",
      "If the implementation is easy to explain, it may be a good idea.\n",
      "Namespaces are one honking great idea -- let's do more of those!\n"
     ]
    }
   ],
   "source": [
    "import this"
   ]
  },
  {
   "cell_type": "code",
   "execution_count": 11,
   "metadata": {
    "id": "Dl0AsqUwit7b"
   },
   "outputs": [],
   "source": [
    "# Функции\n",
    "def abs(x):\n",
    "    if x >= 0:\n",
    "        return x\n",
    "    else:\n",
    "        return -x\n"
   ]
  },
  {
   "cell_type": "code",
   "execution_count": 12,
   "metadata": {
    "colab": {
     "base_uri": "https://localhost:8080/"
    },
    "id": "2rk35Kbnit7b",
    "outputId": "124a9b00-5664-4c14-bc1f-9cd6093abbb8"
   },
   "outputs": [
    {
     "data": {
      "text/plain": [
       "[0, 1, 4, 9, 16, 25, 36, 49, 64, 81]"
      ]
     },
     "execution_count": 12,
     "metadata": {},
     "output_type": "execute_result"
    }
   ],
   "source": [
    "# Лямбда-функции\n",
    "list(map(lambda x: x**2, range(10)))"
   ]
  },
  {
   "cell_type": "code",
   "execution_count": 13,
   "metadata": {
    "colab": {
     "base_uri": "https://localhost:8080/"
    },
    "id": "SigXpMSuit7b",
    "outputId": "31c29564-07b1-46bc-f99c-afafa11b6f55"
   },
   "outputs": [
    {
     "name": "stdout",
     "output_type": "stream",
     "text": [
      "final\n",
      "2\n",
      "final\n",
      "final\n",
      "5\n",
      "final\n",
      "['a', 'b', 'c']\n",
      "c\n",
      "['a', 'b']\n",
      "b\n",
      "['a']\n",
      "a\n"
     ]
    }
   ],
   "source": [
    "# Циклы\n",
    "for item in [0,1,2,3,4,5,6]:\n",
    "\n",
    "    if item % 3 == 0:\n",
    "        continue\n",
    "    elif item % 3 == 1:\n",
    "        pass\n",
    "    elif item % 3 == 2:\n",
    "        print(item)\n",
    "    else:\n",
    "        break\n",
    "    \n",
    "    print('final')\n",
    "\n",
    "\n",
    "ls = ['a', 'b', 'c']\n",
    "while ls:\n",
    "    print(ls)\n",
    "    print(ls.pop())\n",
    "\n",
    "\n"
   ]
  },
  {
   "cell_type": "markdown",
   "metadata": {
    "id": "8W4J2fknit7b"
   },
   "source": [
    "# Вариационное счисление"
   ]
  },
  {
   "cell_type": "code",
   "execution_count": 14,
   "metadata": {
    "id": "jDbUjF5Eit7b"
   },
   "outputs": [],
   "source": [
    "from scipy.optimize import minimize\n",
    "import matplotlib.pyplot as plt\n",
    "import numpy as np\n",
    "import math\n",
    "\n",
    "ESP = EPS = 10e-6"
   ]
  },
  {
   "cell_type": "markdown",
   "metadata": {
    "id": "NJj4T1xCit7b"
   },
   "source": [
    "## Задача 1"
   ]
  },
  {
   "cell_type": "markdown",
   "metadata": {},
   "source": [
    "$$ \\int_0^2 y^2 + y^{'^{2}} \\text dt$$\n",
    "\n",
    "$$ y(0) = 0 $$\n",
    "\n",
    "$$ y(2) = 1 $$\n",
    "\n",
    "$ y{'} $ на каждом шаге считается как $ \\frac{\\Delta y}{\\Delta t} = \\frac{  y(t) - y(t-1) }{\\Delta t}$\n",
    "\n",
    "Аналитическое решение для $ y $  выглядит так:\n",
    "\n",
    "$$ y = \\exp(t) - \\frac{\\exp(-t)}{\\exp(2) - \\exp(-2)} $$"
   ]
  },
  {
   "cell_type": "code",
   "execution_count": 15,
   "metadata": {
    "colab": {
     "base_uri": "https://localhost:8080/"
    },
    "id": "5jZ7KCdfit7b",
    "outputId": "29bd49e4-d538-4fe1-b152-fca0ad0f3f43",
    "scrolled": true
   },
   "outputs": [
    {
     "name": "stdout",
     "output_type": "stream",
     "text": [
      "t: [0.   0.04 0.08 0.12 0.16 0.2  0.24 0.28 0.32 0.36 0.4  0.44 0.48 0.52\n",
      " 0.56 0.6  0.64 0.68 0.72 0.76 0.8  0.84 0.88 0.92 0.96 1.   1.04 1.08\n",
      " 1.12 1.16 1.2  1.24 1.28 1.32 1.36 1.4  1.44 1.48 1.52 1.56 1.6  1.64\n",
      " 1.68 1.72 1.76 1.8  1.84 1.88 1.92 1.96 2.  ]\n",
      "dt: 0.04\n"
     ]
    }
   ],
   "source": [
    "# Задаём дискретное время\n",
    "num_of_fractions = 51   # Количество делений на дискретной шкале времени\n",
    "t = np.linspace(0, 2, num_of_fractions)     # Дискретная шкала времени\n",
    "dt = t[1] - t[0]    # Рассчитываем шаг шкалы\n",
    "\n",
    "print(f\"t: {t}\")\n",
    "print(f\"dt: {dt}\")"
   ]
  },
  {
   "cell_type": "code",
   "execution_count": 16,
   "metadata": {
    "id": "U4idhNunit7b"
   },
   "outputs": [],
   "source": [
    "# Задаём оптимизируемый функционал в дискретном времени\n",
    "def f(y):\n",
    "    return np.sum(y[1:] ** 2 + ((y[1:] - y[:-1]) / dt) ** 2)\n"
   ]
  },
  {
   "cell_type": "code",
   "execution_count": 17,
   "metadata": {
    "colab": {
     "base_uri": "https://localhost:8080/"
    },
    "id": "mV6xCzMLit7c",
    "outputId": "4ac34ba9-99e3-4b33-fa96-cd3d9ada1ee7"
   },
   "outputs": [
    {
     "name": "stdout",
     "output_type": "stream",
     "text": [
      "[0.2 0.2 0.2 0.2 0.2 0.2 0.2 0.2 0.2 0.2 0.2 0.2 0.2 0.2 0.2 0.2 0.2 0.2\n",
      " 0.2 0.2 0.2 0.2 0.2 0.2 0.2 0.2 0.2 0.2 0.2 0.2 0.2 0.2 0.2 0.2 0.2 0.2\n",
      " 0.2 0.2 0.2 0.2 0.2 0.2 0.2 0.2 0.2 0.2 0.2 0.2 0.2 0.2 0.2]\n"
     ]
    }
   ],
   "source": [
    "y0 = np.full(num_of_fractions, 0.2)    # Начальное значение y\n",
    "print(y0)\n",
    "\n",
    "# Задаем ограничения на y. У нас y(0)=0 и y(2)=1\n",
    "bounds = np.full((num_of_fractions, 2), (None, None))\n",
    "bounds[0], bounds[-1] = (0.0 - ESP, 0.0 + ESP), (1.0 - ESP, 1.0 + ESP)"
   ]
  },
  {
   "cell_type": "code",
   "execution_count": 18,
   "metadata": {
    "id": "N1o0sUvZit7c"
   },
   "outputs": [],
   "source": [
    "# Минимизируем функционал\n",
    "res = minimize(f, y0, method='l-bfgs-b', bounds=bounds)"
   ]
  },
  {
   "cell_type": "code",
   "execution_count": 19,
   "metadata": {
    "id": "f6gNyv_0it7c"
   },
   "outputs": [],
   "source": [
    "# Определим функцию, возвращающую аналитическое решение. Напомню, что y = (e^t - e^(-t))/(e^2 - e^(-2))\n",
    "def f_analytical(t):\n",
    "    return (np.exp(t) - np.exp(-t)) / (np.exp(2) - np.exp(-2))"
   ]
  },
  {
   "cell_type": "code",
   "execution_count": 20,
   "metadata": {
    "colab": {
     "base_uri": "https://localhost:8080/",
     "height": 279
    },
    "id": "jdK-a-D6it7c",
    "outputId": "e8e4aa74-bb36-4af2-940f-cde023bb9833"
   },
   "outputs": [
    {
     "data": {
      "image/png": "[encoded data removed]",
      "text/plain": [
       "<Figure size 640x480 with 1 Axes>"
      ]
     },
     "metadata": {},
     "output_type": "display_data"
    }
   ],
   "source": [
    "# Построим график и убедимся, что численное и аналитическое решения совпали\n",
    "plt.plot(t, res.x, 'r', t, f_analytical(t), '--b')\n",
    "plt.xlabel('t')\n",
    "plt.ylabel('y')\n",
    "plt.legend(('y численный', 'y аналитический'))\n",
    "plt.show()\n"
   ]
  },
  {
   "cell_type": "markdown",
   "metadata": {
    "id": "ogHrytKSit7c"
   },
   "source": [
    "## Задача 2\n",
    "\n",
    "$$ \\int_0^1 y^2 + t^2 \\cdot y^{'^2} \\text dt $$\n",
    "\n",
    "$$ y(0) = 1 $$\n",
    "\n",
    "$$y(1) = 2 $$"
   ]
  },
  {
   "cell_type": "code",
   "execution_count": 21,
   "metadata": {
    "id": "TtqMtyHrit7c"
   },
   "outputs": [],
   "source": [
    "num_of_fractions = 41\n",
    "t = np.linspace(0, 1, num_of_fractions)\n",
    "dt = t[1] - t[0]"
   ]
  },
  {
   "cell_type": "code",
   "execution_count": 22,
   "metadata": {
    "id": "r10vXMpSit7c"
   },
   "outputs": [],
   "source": [
    "def f(y):\n",
    "    return np.sum(y[1:] ** 2 + (t[1:] ** 2) * (((y[1:] - y[:-1]) / dt) ** 2), axis=0)\n",
    "\n",
    "y0 = np.full(num_of_fractions, 1.5)\n",
    "bounds = np.full((num_of_fractions, 2), (None, None))\n",
    "bounds[0], bounds[-1] = (1.0 - EPS, 1.0 + EPS), (2.0 - EPS, 2.0 + EPS)"
   ]
  },
  {
   "cell_type": "code",
   "execution_count": 23,
   "metadata": {
    "id": "q364-93Yit7c"
   },
   "outputs": [],
   "source": [
    "res = minimize(f, y0, method='l-bfgs-b', bounds=bounds)"
   ]
  },
  {
   "cell_type": "code",
   "execution_count": 24,
   "metadata": {
    "colab": {
     "base_uri": "https://localhost:8080/",
     "height": 279
    },
    "id": "X4t6bFzEit7c",
    "outputId": "01e48d98-a15b-40bd-8184-0657c31a9a6f"
   },
   "outputs": [
    {
     "data": {
      "image/png": "[encoded data removed]",
      "text/plain": [
       "<Figure size 640x480 with 1 Axes>"
      ]
     },
     "metadata": {},
     "output_type": "display_data"
    }
   ],
   "source": [
    "plt.plot(t, res.x)\n",
    "plt.xlabel('t')\n",
    "plt.ylabel('y')\n",
    "plt.show()\n"
   ]
  },
  {
   "cell_type": "code",
   "execution_count": 25,
   "metadata": {
    "colab": {
     "base_uri": "https://localhost:8080/",
     "height": 279
    },
    "id": "pKCy8Vlait7c",
    "outputId": "23505299-3643-44d3-f910-d8736a5ee814"
   },
   "outputs": [
    {
     "data": {
      "image/png": "[encoded data removed]",
      "text/plain": [
       "<Figure size 640x480 with 1 Axes>"
      ]
     },
     "metadata": {},
     "output_type": "display_data"
    }
   ],
   "source": [
    "\n",
    "# Откинем правую границу\n",
    "\n",
    "bounds2 = np.full((num_of_fractions, 2), (None, None))\n",
    "bounds2[0] = (1.0 - EPS, 1.0 + EPS)\n",
    "\n",
    "res2 = minimize(f, y0, method='l-bfgs-b', bounds=bounds2)\n",
    "\n",
    "plt.plot(t, res2.x)\n",
    "plt.xlabel('t')\n",
    "plt.ylabel('y')\n",
    "plt.show()\n"
   ]
  },
  {
   "cell_type": "markdown",
   "metadata": {
    "id": "P2333Ca6it7c"
   },
   "source": [
    "## Задача 3\n",
    "\n",
    "$$ \\int_0^1 y \\cdot y^{'^2} \\text dt $$\n",
    "\n",
    "$$ y(0) = 1 $$ \n",
    "\n",
    "$$y(1) = 4 $$ \n",
    "\n",
    "Аналитическое решение: $$ y = (7 \\cdot t + 1) ^ {2/3} $$ "
   ]
  },
  {
   "cell_type": "code",
   "execution_count": 26,
   "metadata": {
    "colab": {
     "base_uri": "https://localhost:8080/",
     "height": 279
    },
    "id": "_juGbh9Pit7d",
    "outputId": "b7599238-ac40-4820-9f78-9109ee878731",
    "scrolled": false
   },
   "outputs": [
    {
     "data": {
      "image/png": "[encoded data removed]",
      "text/plain": [
       "<Figure size 640x480 with 1 Axes>"
      ]
     },
     "metadata": {},
     "output_type": "display_data"
    }
   ],
   "source": [
    "num_of_fractions = 41\n",
    "t = np.linspace(0, 1, num_of_fractions)\n",
    "dt = t[1] - t[0]\n",
    "\n",
    "\n",
    "def f(y):\n",
    "    return np.sum(y[1:] * (((y[1:] - y[:-1]) / dt) ** 2), axis=0)\n",
    "\n",
    "\n",
    "y0 = np.full(num_of_fractions, 0.5)\n",
    "bounds = np.full((num_of_fractions, 2), (None, None))\n",
    "bounds[0], bounds[-1] = (1.0 - EPS, 1.0 + EPS), (4.0 - EPS, 4.0 + EPS)\n",
    "\n",
    "res = minimize(f, y0, method='l-bfgs-b', bounds=bounds)\n",
    "\n",
    "\n",
    "def f_analytical(t):\n",
    "    return (7 * t + 1) ** (2 / 3) \n",
    "\n",
    "\n",
    "# Построим график и убедимся, что численное и аналитическое решения совпали\n",
    "plt.plot(t, res.x, 'r', t, f_analytical(t), '--b')\n",
    "plt.xlabel('t')\n",
    "plt.ylabel('y')\n",
    "plt.legend(('y численный', 'y аналитический'))\n",
    "plt.show()\n"
   ]
  },
  {
   "cell_type": "markdown",
   "metadata": {
    "id": "pEPzZG8GvB0o"
   },
   "source": [
    "## Задача 4\n",
    "\n",
    "$$ \\int_0^1 y + y^{''^2} \\text dt$$\n",
    "\n",
    "$$ y(0) = 1 $$ \n",
    "\n",
    "$$ y(1) = 4 $$"
   ]
  },
  {
   "cell_type": "code",
   "execution_count": 27,
   "metadata": {
    "colab": {
     "base_uri": "https://localhost:8080/",
     "height": 203
    },
    "id": "7qwTPIVFy8fm",
    "outputId": "abe68e4b-924d-4f2e-d137-99390310e302"
   },
   "outputs": [],
   "source": [
    "num_of_fractions = 41\n",
    "t = np.linspace(0, 1, num_of_fractions)\n",
    "dt = t[1] - t[0]\n"
   ]
  },
  {
   "cell_type": "code",
   "execution_count": 28,
   "metadata": {
    "colab": {
     "base_uri": "https://localhost:8080/",
     "height": 279
    },
    "id": "I9z5zb3SzmqZ",
    "outputId": "25d8e261-e2e7-46cd-e87e-07493f25f1bd"
   },
   "outputs": [
    {
     "data": {
      "image/png": "[encoded data removed]",
      "text/plain": [
       "<Figure size 640x480 with 1 Axes>"
      ]
     },
     "metadata": {},
     "output_type": "display_data"
    }
   ],
   "source": [
    "def f(y):\n",
    "    dy = (y[1:] - y[:-1]) / dt\n",
    "    d2y = (dy[1:] - dy[:-1]) / dt\n",
    "    return np.sum(y[2:] + d2y**2)\n",
    "\n",
    "y0 = np.full(num_of_fractions, 0.5)\n",
    "bounds = np.full((num_of_fractions, 2), (None, None))\n",
    "bounds[0], bounds[-1] = (1.0 - EPS, 1.0 + EPS), (4.0 - EPS, 4.0 + EPS)\n",
    "\n",
    "\n",
    "res = minimize(f, y0, method='l-bfgs-b', bounds=bounds)\n",
    "\n",
    "# Построим график и убедимся, что численное и аналитическое решения совпали\n",
    "plt.plot(t, res.x, 'r', '--b')\n",
    "plt.xlabel('t')\n",
    "plt.ylabel('y')\n",
    "plt.legend(('$y$ численный', '$y$ аналитический'))\n",
    "plt.show()"
   ]
  },
  {
   "cell_type": "code",
   "execution_count": null,
   "metadata": {},
   "outputs": [],
   "source": []
  }
 ],
 "metadata": {
  "colab": {
   "collapsed_sections": [],
   "name": "sem_1.ipynb",
   "provenance": []
  },
  "interpreter": {
   "hash": "916dbcbb3f70747c44a77c7bcd40155683ae19c65e1c03b4aa3499c5328201f1"
  },
  "kernelspec": {
   "display_name": "Python 3 (ipykernel)",
   "language": "python",
   "name": "python3"
  },
  "language_info": {
   "codemirror_mode": {
    "name": "ipython",
    "version": 3
   },
   "file_extension": ".py",
   "mimetype": "text/x-python",
   "name": "python",
   "nbconvert_exporter": "python",
   "pygments_lexer": "ipython3",
   "version": "3.10.6"
  }
 },
 "nbformat": 4,
 "nbformat_minor": 1
}
